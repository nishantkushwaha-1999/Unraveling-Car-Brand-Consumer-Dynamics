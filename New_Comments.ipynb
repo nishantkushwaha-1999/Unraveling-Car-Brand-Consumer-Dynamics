{
 "cells": [
  {
   "cell_type": "code",
   "execution_count": 0,
   "metadata": {
    "application/vnd.databricks.v1+cell": {
     "cellMetadata": {
      "byteLimit": 2048000,
      "rowLimit": 10000
     },
     "inputWidgets": {},
     "nuid": "3d6666ea-0977-4c58-a86f-05826bd20d1d",
     "showTitle": false,
     "title": ""
    },
    "colab": {
     "base_uri": "https://localhost:8080/"
    },
    "id": "Xahra0HYBsCL",
    "outputId": "06e689c0-54ac-4386-8392-90ec18ba563e"
   },
   "outputs": [],
   "source": [
    "import numpy as np\n",
    "import pandas as pd\n",
    "import matplotlib.pyplot as plt\n",
    "import seaborn as sns\n",
    "import string\n",
    "import statsmodels.api as sm\n",
    "import nltk\n",
    "from nltk import FreqDist\n",
    "from nltk.corpus import stopwords\n",
    "from tqdm import tqdm\n",
    "from sklearn.manifold import MDS\n",
    "from matplotlib import pyplot as plt\n",
    "import plotly.graph_objects as go\n",
    "import networkx as nx\n",
    "from pyvis.network import Network"
   ]
  },
  {
   "cell_type": "code",
   "execution_count": 0,
   "metadata": {
    "application/vnd.databricks.v1+cell": {
     "cellMetadata": {
      "byteLimit": 2048000,
      "rowLimit": 10000
     },
     "inputWidgets": {},
     "nuid": "54f4feaa-fcfa-40db-9180-dc1990f03019",
     "showTitle": false,
     "title": ""
    }
   },
   "outputs": [],
   "source": [
    "path = '/mnt/car_brand_attribute_associations/'"
   ]
  },
  {
   "cell_type": "code",
   "execution_count": 0,
   "metadata": {
    "application/vnd.databricks.v1+cell": {
     "cellMetadata": {
      "byteLimit": 2048000,
      "rowLimit": 10000
     },
     "inputWidgets": {},
     "nuid": "7e3ca325-5b9d-4d0f-a5e7-4140c974a98f",
     "showTitle": false,
     "title": ""
    }
   },
   "outputs": [],
   "source": [
    "df_path = path + \"Data/Edmunds_Data_New\"\n",
    "df = spark.read.format('csv').options(header=True,inferSchema=True).load(df_path)\n",
    "edmunds_data = df.toPandas()\n",
    "edmunds_data.info()"
   ]
  },
  {
   "cell_type": "code",
   "execution_count": 0,
   "metadata": {
    "application/vnd.databricks.v1+cell": {
     "cellMetadata": {
      "byteLimit": 2048000,
      "rowLimit": 10000
     },
     "inputWidgets": {},
     "nuid": "cf51cf82-6a06-4876-961c-1e5e111b84ca",
     "showTitle": false,
     "title": ""
    }
   },
   "outputs": [],
   "source": [
    "def generate_corpus(column):\n",
    "    corpus = \" \"\n",
    "    for text in column:\n",
    "        text = str(text)\n",
    "        for i in list(string.punctuation.replace('+','')):\n",
    "            text = text.replace(i, ' ')\n",
    "        text = text.lower()\n",
    "\n",
    "        corpus += text\n",
    "    return corpus"
   ]
  },
  {
   "cell_type": "code",
   "execution_count": 0,
   "metadata": {
    "application/vnd.databricks.v1+cell": {
     "cellMetadata": {
      "byteLimit": 2048000,
      "rowLimit": 10000
     },
     "inputWidgets": {},
     "nuid": "20fcd3c5-f07b-4c0c-a932-b28034bb2aab",
     "showTitle": false,
     "title": ""
    }
   },
   "outputs": [],
   "source": [
    "corpus = generate_corpus(edmunds_data['Comment'])\n",
    "corpus = corpus.split()\n",
    "print(len(corpus))\n",
    "\n",
    "word_freq = FreqDist()\n",
    "for word in tqdm(corpus):\n",
    "    word_freq[word] += 1\n",
    "\n",
    "freq_dist = []\n",
    "for rank, word in enumerate(word_freq):\n",
    "    freq_dist.append([rank+1, word, word_freq[word]])\n",
    "\n",
    "freq_dist = pd.DataFrame(freq_dist, columns=['Rank', 'Word', 'Count'])\n",
    "df = spark.createDataFrame(freq_dist)\n",
    "df.write.option(\"header\", \"true\").mode(\"overwrite\").csv(path+ 'Support Files/Freq_Dist_new_comments')\n",
    "freq_dist"
   ]
  },
  {
   "cell_type": "code",
   "execution_count": 0,
   "metadata": {
    "application/vnd.databricks.v1+cell": {
     "cellMetadata": {
      "byteLimit": 2048000,
      "rowLimit": 10000
     },
     "inputWidgets": {},
     "nuid": "5684a622-7476-4f9d-ae0f-1b64774905fd",
     "showTitle": false,
     "title": ""
    }
   },
   "outputs": [],
   "source": [
    "max_rank = max(freq_dist['Rank'])\n",
    "c = max_rank * int(freq_dist.loc[freq_dist['Rank'] == max_rank]['Count'].values)\n",
    "\n",
    "l_rank = np.log(freq_dist['Rank'] / c)\n",
    "l_freq = np.log(freq_dist['Count'])\n",
    "\n",
    "# X = sm.add_constant(l_rank)\n",
    "model = sm.OLS(l_freq, l_rank)\n",
    "result = model.fit()\n",
    "print(result.summary())"
   ]
  },
  {
   "cell_type": "code",
   "execution_count": 0,
   "metadata": {
    "application/vnd.databricks.v1+cell": {
     "cellMetadata": {
      "byteLimit": 2048000,
      "rowLimit": 10000
     },
     "inputWidgets": {},
     "nuid": "74b26764-efe2-4ab5-a628-cbed5bbeb01a",
     "showTitle": false,
     "title": ""
    }
   },
   "outputs": [],
   "source": [
    "plt.figure(figsize=(20,7))\n",
    "plt.plot(l_freq, l_rank, label=\"Raw Zipf's Curve\")\n",
    "plt.plot(result.predict(l_rank), l_rank, label='OLS Fit')\n",
    "plt.xlabel('Rank')\n",
    "plt.ylabel('Frequency')\n",
    "plt.title(\"Zipf's Distribution\")\n",
    "plt.legend()\n",
    "plt.show()"
   ]
  },
  {
   "cell_type": "code",
   "execution_count": 0,
   "metadata": {
    "application/vnd.databricks.v1+cell": {
     "cellMetadata": {
      "byteLimit": 2048000,
      "rowLimit": 10000
     },
     "inputWidgets": {},
     "nuid": "f8e04135-a45e-4138-a400-cbac5aadb638",
     "showTitle": false,
     "title": ""
    }
   },
   "outputs": [],
   "source": [
    "def process_column(column):\n",
    "    data = list(column)\n",
    "    for i in range(len(data)):\n",
    "        text = str(data[i])\n",
    "        for punct in list(string.punctuation.replace('+','')):\n",
    "             text = text.replace(punct, ' ')\n",
    "        text = text.lower()\n",
    "        data[i] = text\n",
    "    return data\n",
    "\n",
    "def replace_car_brands(data, map):\n",
    "    for i in range(len(data)):\n",
    "        text = data[i]\n",
    "        l_text = text.split()\n",
    "        for word in l_text:\n",
    "            if word in map.keys():\n",
    "                text = text.replace(word, map[word])\n",
    "        data[i] = text\n",
    "    return data"
   ]
  },
  {
   "cell_type": "code",
   "execution_count": 0,
   "metadata": {
    "application/vnd.databricks.v1+cell": {
     "cellMetadata": {
      "byteLimit": 2048000,
      "rowLimit": 10000
     },
     "inputWidgets": {},
     "nuid": "4bc0ce0a-2a98-463a-ab8c-095a157928cd",
     "showTitle": false,
     "title": ""
    }
   },
   "outputs": [],
   "source": [
    "comments = process_column(edmunds_data['Comment'])\n",
    "\n",
    "df = spark.read.format('csv').options(header=True,inferSchema=True).load(path + 'Support Files/Substitutions/')\n",
    "brand_model_map = df.toPandas()\n",
    "\n",
    "model__brand_dict = {}\n",
    "for brand, model in zip(brand_model_map['Brand'], brand_model_map['Model']):\n",
    "    model__brand_dict[model] = brand\n",
    "\n",
    "# print(model__brand_dict['century'])\n",
    "comments = replace_car_brands(comments, model__brand_dict)\n",
    "\n",
    "brand_count = {}\n",
    "for brand in list(brand_model_map['Brand'].unique()):\n",
    "    brand_count[brand] = 0\n",
    "\n",
    "for i in range(len(comments)):\n",
    "    text = comments[i].split()\n",
    "    for brand in list(brand_count.keys()):\n",
    "        if brand in text:\n",
    "            brand_count[brand] += 1\n"
   ]
  },
  {
   "cell_type": "code",
   "execution_count": 0,
   "metadata": {
    "application/vnd.databricks.v1+cell": {
     "cellMetadata": {
      "byteLimit": 2048000,
      "rowLimit": 10000
     },
     "inputWidgets": {},
     "nuid": "cfc2a4bd-90fd-4576-9794-4abeabf260d3",
     "showTitle": false,
     "title": ""
    }
   },
   "outputs": [],
   "source": [
    "brand_freq = []\n",
    "for brand, count in zip(brand_count.keys(), brand_count.values()):\n",
    "    brand_freq.append([brand, count])\n",
    "\n",
    "brand_freq = pd.DataFrame(brand_freq, columns=['Brand', 'Count'])\n",
    "brand_freq = brand_freq.sort_values('Count', ascending=False).reset_index(drop=False)\n",
    "brand_freq"
   ]
  },
  {
   "cell_type": "code",
   "execution_count": 0,
   "metadata": {
    "application/vnd.databricks.v1+cell": {
     "cellMetadata": {
      "byteLimit": 2048000,
      "rowLimit": 10000
     },
     "inputWidgets": {},
     "nuid": "861c39fc-8019-4b46-a841-43c78ff18093",
     "showTitle": false,
     "title": ""
    }
   },
   "outputs": [],
   "source": [
    "def lift(texts, x, y, words=float('inf')):\n",
    "    n = len(texts)\n",
    "    count_x = 0\n",
    "    count_y = 0\n",
    "    count_x_y = 0\n",
    "\n",
    "    for i in range(n):\n",
    "        x_indices = []\n",
    "        y_indices = []\n",
    "        text = texts[i].split()\n",
    "        \n",
    "        for j in range(len(text)):\n",
    "            if x == text[j]:\n",
    "                x_indices.append(j)\n",
    "            elif y == text[j]:\n",
    "                y_indices.append(j)\n",
    "\n",
    "        n_words = []    \n",
    "        for x_index in x_indices:\n",
    "            for y_index in y_indices:\n",
    "                n_words.append(abs(x_index - y_index) - 1)\n",
    "        \n",
    "        # print(len(n_words) > 0, len(x_indices) > 0, len(y_indices) > 0)\n",
    "        if len(n_words) > 0:\n",
    "            if float(min(n_words)) <= float(words):\n",
    "                count_x_y += 1\n",
    "        if len(x_indices) > 0:\n",
    "            count_x += 1\n",
    "        if len(y_indices) > 0:\n",
    "            count_y += 1\n",
    "        \n",
    "        # print(n, count_x_y, count_x, count_y)\n",
    "    \n",
    "    lift = (n * count_x_y) / (count_x * count_y)\n",
    "    return lift"
   ]
  },
  {
   "cell_type": "code",
   "execution_count": 0,
   "metadata": {
    "application/vnd.databricks.v1+cell": {
     "cellMetadata": {
      "byteLimit": 2048000,
      "rowLimit": 10000
     },
     "inputWidgets": {},
     "nuid": "7bd6e250-324f-4ba3-a6b9-eea44c1aaa59",
     "showTitle": false,
     "title": ""
    }
   },
   "outputs": [],
   "source": [
    "top_10_brands = list(brand_freq[:10]['Brand'])\n",
    "\n",
    "lift_scores = []\n",
    "dissimilarity_matrix = []\n",
    "for i in range(len(top_10_brands)):\n",
    "    row = []\n",
    "    row_diss = []\n",
    "    for j in range(len(top_10_brands)):\n",
    "        if j!=i:\n",
    "            lift_score = lift(comments, top_10_brands[i], top_10_brands[j])\n",
    "            row.append(lift_score)\n",
    "            try:\n",
    "                row_diss.append(1/lift_score)\n",
    "            except ZeroDivisionError:\n",
    "                row_diss.append(np.inf)\n",
    "        elif i==j:\n",
    "            row.append(1)\n",
    "            row_diss.append(0)\n",
    "        # else:\n",
    "        #     row.append(np.nan)\n",
    "        #     row_diss.append(np.nan)\n",
    "    \n",
    "    row.append(top_10_brands[i])\n",
    "    row_diss.append(top_10_brands[i])\n",
    "    lift_scores.append(row)\n",
    "    dissimilarity_matrix.append(row_diss)\n",
    "\n",
    "cols = top_10_brands.append('Brand')\n",
    "\n",
    "lift_scores = pd.DataFrame(lift_scores, columns=top_10_brands).set_index('Brand')\n",
    "display(lift_scores)\n",
    "\n",
    "dissimilarity_matrix = pd.DataFrame(dissimilarity_matrix, columns=top_10_brands).set_index('Brand')\n",
    "display(dissimilarity_matrix)"
   ]
  },
  {
   "cell_type": "code",
   "execution_count": 0,
   "metadata": {
    "application/vnd.databricks.v1+cell": {
     "cellMetadata": {
      "byteLimit": 2048000,
      "rowLimit": 10000
     },
     "inputWidgets": {},
     "nuid": "cc7d36f2-4f68-4299-9809-a55d64dfbd95",
     "showTitle": false,
     "title": ""
    }
   },
   "outputs": [],
   "source": [
    "def MDS_map(dissimilarity_matrix, metric=True, title='MDS Plot'):\n",
    "    mds = MDS(n_components=2, metric=metric, dissimilarity='precomputed', random_state=0)\n",
    "    pts = mds.fit_transform(dissimilarity_matrix)\n",
    "\n",
    "    plt.scatter(pts[:,0], pts[:,1], color='silver', s=150)\n",
    "    for i in range(dissimilarity_matrix.shape[0]):\n",
    "        plt.annotate(dissimilarity_matrix.index[i], (pts[i,0], pts[i,1]), color='blue')\n",
    "    plt.title(title)\n",
    "    plt.axis('off')\n",
    "    plt.show()\n",
    "\n",
    "MDS_map(dissimilarity_matrix=dissimilarity_matrix, metric=True, title='MDS Plot - Car Brands')"
   ]
  },
  {
   "cell_type": "code",
   "execution_count": 0,
   "metadata": {
    "application/vnd.databricks.v1+cell": {
     "cellMetadata": {
      "byteLimit": 2048000,
      "rowLimit": 10000
     },
     "inputWidgets": {},
     "nuid": "55ca632d-29a0-4f24-ae7d-59472f4008b9",
     "showTitle": false,
     "title": ""
    }
   },
   "outputs": [],
   "source": [
    "# features = input(\"Enter the features as comma seperated values without spaces\")\n",
    "# features = features.split(',')\n",
    "brand_feature = list(brand_freq[:10]['Brand'])\n",
    "features = ['performance', 'luxury', 'driving', 'engine', 'handling', 'interior']\n",
    "for feature in features:\n",
    "    brand_feature.append(feature)\n",
    "\n",
    "\n",
    "lift_scores = []\n",
    "dissimilarity_matrix = []\n",
    "for i in range(len(brand_feature)):\n",
    "    row = []\n",
    "    row_diss = []\n",
    "    for j in range(len(brand_feature)):\n",
    "        if j!=i:\n",
    "            if (brand_feature[i] in top_10_brands) and (brand_feature[j] in top_10_brands):\n",
    "                lift_score = lift(comments, brand_feature[i], brand_feature[j])\n",
    "            else:\n",
    "                lift_score = lift(comments, brand_feature[i], brand_feature[j], 40)\n",
    "            row.append(lift_score)\n",
    "            try:\n",
    "                row_diss.append(1/lift_score)\n",
    "            except ZeroDivisionError:\n",
    "                row_diss.append(np.inf)\n",
    "        elif i==j:\n",
    "            row.append(1)\n",
    "            row_diss.append(0)\n",
    "        # else:\n",
    "        #     row.append(np.nan)\n",
    "        #     row_diss.append(np.nan)\n",
    "    \n",
    "    row.append(brand_feature[i])\n",
    "    row_diss.append(brand_feature[i])\n",
    "    lift_scores.append(row)\n",
    "    dissimilarity_matrix.append(row_diss)\n",
    "\n",
    "cols = brand_feature.append('Brand')\n",
    "\n",
    "lift_scores = pd.DataFrame(lift_scores, columns=brand_feature).set_index('Brand')\n",
    "display(lift_scores)\n",
    "\n",
    "dissimilarity_matrix = pd.DataFrame(dissimilarity_matrix, columns=brand_feature).set_index('Brand')\n",
    "display(dissimilarity_matrix)"
   ]
  },
  {
   "cell_type": "markdown",
   "metadata": {
    "application/vnd.databricks.v1+cell": {
     "cellMetadata": {
      "byteLimit": 2048000,
      "rowLimit": 10000
     },
     "inputWidgets": {},
     "nuid": "9d930c90-ac20-4ecc-9fa4-87e0c590f005",
     "showTitle": false,
     "title": ""
    }
   },
   "source": [
    "## Appendix"
   ]
  },
  {
   "cell_type": "code",
   "execution_count": 0,
   "metadata": {
    "application/vnd.databricks.v1+cell": {
     "cellMetadata": {
      "byteLimit": 2048000,
      "rowLimit": 10000
     },
     "inputWidgets": {},
     "nuid": "7630a5e5-fc54-4f0a-aa47-6293a1a4e289",
     "showTitle": false,
     "title": ""
    }
   },
   "outputs": [],
   "source": [
    "def netMap(lift_matrix, engine='plotly'):\n",
    "    import numpy as np\n",
    "    import matplotlib.pyplot as plt\n",
    "    import plotly.express as px\n",
    "    \n",
    "    if engine == 'matplotlib':\n",
    "        fig, ax = plt.subplots()\n",
    "\n",
    "        names = list(lift_matrix.columns)\n",
    "        n = len(names)\n",
    "        r = n/2\n",
    "        points = {}\n",
    "        for i in range(n):\n",
    "            theta = (i * np.pi * 2) / n\n",
    "            x = np.cos(theta) * r\n",
    "            y = np.sin(theta) * r\n",
    "            points[names[i]] = [x, y]\n",
    "        \n",
    "        for i in range(n):\n",
    "            point = points[names[i]]\n",
    "            ax.scatter(point[0], point[1])\n",
    "            ax.annotate(names[i], point)\n",
    "        \n",
    "        for i in range(n):\n",
    "            for j in range(n):\n",
    "                if j>i:\n",
    "                    lift = lift_scores[names[i]][names[j]]\n",
    "                    if lift > 1:\n",
    "                        point1 = points[names[i]]\n",
    "                        point2 = points[names[j]]\n",
    "\n",
    "                        Xs = [point1[0], point2[0]]\n",
    "                        Ys = [point1[1], point2[1]]\n",
    "\n",
    "                        ax.plot(Xs, Ys, linewidth=lift/5, color='b')\n",
    "        \n",
    "        plt.show()\n",
    "    \n",
    "    elif engine == 'plotly':\n",
    "        # fig, ax = plt.subplots()\n",
    "\n",
    "        names = list(lift_matrix.columns)\n",
    "        n = len(names)\n",
    "        r = n/2\n",
    "        points = {}\n",
    "        for i in range(n):\n",
    "            theta = (i * np.pi * 2) / n\n",
    "            x = np.cos(theta) * r\n",
    "            y = np.sin(theta) * r\n",
    "            points[names[i]] = [x, y]\n",
    "        \n",
    "        for i in range(n):\n",
    "            point = points[names[i]]\n",
    "            # ax.scatter(point[0], point[1])\n",
    "            fig = px.scatter(x=[0, 1, 2, 3, 4], y=[0, 1, 4, 9, 16])\n",
    "            # ax.annotate(names[i], point)\n",
    "        \n",
    "        # for i in range(n):\n",
    "        #     for j in range(n):\n",
    "        #         if j>i:\n",
    "        #             lift = lift_scores[names[i]][names[j]]\n",
    "        #             if lift > 1:\n",
    "        #                 point1 = points[names[i]]\n",
    "        #                 point2 = points[names[j]]\n",
    "\n",
    "        #                 Xs = [point1[0], point2[0]]\n",
    "        #                 Ys = [point1[1], point2[1]]\n",
    "\n",
    "        #                 ax.plot(Xs, Ys, linewidth=lift/5, color='b')\n",
    "\n",
    "        fig.show()\n",
    "\n",
    "a = netMap(lift_scores, 'matplotlib')\n",
    "a"
   ]
  }
 ],
 "metadata": {
  "accelerator": "GPU",
  "application/vnd.databricks.v1+notebook": {
   "dashboards": [],
   "language": "python",
   "notebookMetadata": {
    "pythonIndentUnit": 4
   },
   "notebookName": "New_Comments",
   "widgets": {}
  },
  "colab": {
   "base_uri": "https://localhost:8080/"
  },
  "id": "Xahra0HYBsCL",
  "kernelspec": {
   "display_name": "Python 3",
   "language": "python",
   "name": "python3"
  },
  "language_info": {
   "codemirror_mode": {
    "name": "ipython",
    "version": 3
   },
   "file_extension": ".py",
   "mimetype": "text/x-python",
   "name": "python",
   "nbconvert_exporter": "python",
   "pygments_lexer": "ipython3",
   "version": "3.10.11"
  },
  "outputId": "06e689c0-54ac-4386-8392-90ec18ba563e"
 },
 "nbformat": 4,
 "nbformat_minor": 0
}

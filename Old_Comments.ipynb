{
 "cells": [
  {
   "cell_type": "code",
   "execution_count": 0,
   "metadata": {
    "application/vnd.databricks.v1+cell": {
     "cellMetadata": {
      "byteLimit": 2048000,
      "rowLimit": 10000
     },
     "inputWidgets": {},
     "nuid": "e635cd03-71c6-4a03-847b-4f859b7ed013",
     "showTitle": false,
     "title": ""
    },
    "colab": {
     "base_uri": "https://localhost:8080/"
    },
    "id": "Xahra0HYBsCL",
    "outputId": "06e689c0-54ac-4386-8392-90ec18ba563e"
   },
   "outputs": [],
   "source": [
    "import numpy as np\n",
    "import pandas as pd\n",
    "import matplotlib.pyplot as plt\n",
    "import seaborn as sns\n",
    "import string\n",
    "import statsmodels.api as sm\n",
    "import nltk\n",
    "from nltk import FreqDist\n",
    "from nltk.corpus import stopwords\n",
    "from tqdm import tqdm\n",
    "from sklearn.manifold import MDS\n",
    "from matplotlib import pyplot as plt\n",
    "import plotly.graph_objects as go\n",
    "import networkx as nx"
   ]
  },
  {
   "cell_type": "code",
   "execution_count": 0,
   "metadata": {
    "application/vnd.databricks.v1+cell": {
     "cellMetadata": {
      "byteLimit": 2048000,
      "rowLimit": 10000
     },
     "inputWidgets": {},
     "nuid": "dc3b0f0d-1928-4616-be7e-131a335068c7",
     "showTitle": false,
     "title": ""
    }
   },
   "outputs": [],
   "source": [
    "path = '/mnt/car_brand_attribute_associations/'"
   ]
  },
  {
   "cell_type": "code",
   "execution_count": 0,
   "metadata": {
    "application/vnd.databricks.v1+cell": {
     "cellMetadata": {
      "byteLimit": 2048000,
      "rowLimit": 10000
     },
     "inputWidgets": {},
     "nuid": "ec849a39-c84c-4444-8d31-247536e28779",
     "showTitle": false,
     "title": ""
    }
   },
   "outputs": [],
   "source": [
    "df_path = path + \"Data/Edmunds_Data_Old\"\n",
    "df = spark.read.format('csv').options(header=True,inferSchema=True).load(df_path)\n",
    "edmunds_data = df.toPandas()\n",
    "edmunds_data.info()"
   ]
  },
  {
   "cell_type": "code",
   "execution_count": 0,
   "metadata": {
    "application/vnd.databricks.v1+cell": {
     "cellMetadata": {
      "byteLimit": 2048000,
      "rowLimit": 10000
     },
     "inputWidgets": {},
     "nuid": "61ee95b0-25cb-4a83-af10-ec8d3e4a0c67",
     "showTitle": false,
     "title": ""
    }
   },
   "outputs": [],
   "source": [
    "def generate_corpus(column):\n",
    "    corpus = \" \"\n",
    "    for text in column:\n",
    "        text = str(text)\n",
    "        for i in list(string.punctuation.replace('+','')):\n",
    "            text = text.replace(i, ' ')\n",
    "        text = text.lower()\n",
    "\n",
    "        corpus += text\n",
    "    return corpus"
   ]
  },
  {
   "cell_type": "code",
   "execution_count": 0,
   "metadata": {
    "application/vnd.databricks.v1+cell": {
     "cellMetadata": {
      "byteLimit": 2048000,
      "rowLimit": 10000
     },
     "inputWidgets": {},
     "nuid": "a21b6930-4530-4595-ae3e-6d00a4bee01d",
     "showTitle": false,
     "title": ""
    }
   },
   "outputs": [],
   "source": [
    "corpus = generate_corpus(edmunds_data['Comment'])\n",
    "corpus = corpus.split()\n",
    "print(len(corpus))\n",
    "\n",
    "word_freq = FreqDist()\n",
    "for word in tqdm(corpus):\n",
    "    word_freq[word] += 1\n",
    "\n",
    "freq_dist = []\n",
    "for rank, word in enumerate(word_freq):\n",
    "    freq_dist.append([rank+1, word, word_freq[word]])\n",
    "\n",
    "freq_dist = pd.DataFrame(freq_dist, columns=['Rank', 'Word', 'Count'])\n",
    "df = spark.createDataFrame(freq_dist)\n",
    "df.write.option(\"header\", \"true\").mode(\"overwrite\").csv(path+ 'Support Files/Freq_Dist_old_comments')\n",
    "freq_dist"
   ]
  },
  {
   "cell_type": "code",
   "execution_count": 0,
   "metadata": {
    "application/vnd.databricks.v1+cell": {
     "cellMetadata": {
      "byteLimit": 2048000,
      "rowLimit": 10000
     },
     "inputWidgets": {},
     "nuid": "b1260db8-f55f-466a-b277-dcd1ebb6b2e4",
     "showTitle": false,
     "title": ""
    }
   },
   "outputs": [],
   "source": [
    "max_rank = max(freq_dist['Rank'])\n",
    "c = max_rank * int(freq_dist.loc[freq_dist['Rank'] == max_rank]['Count'].values)\n",
    "\n",
    "l_rank = np.log(freq_dist['Rank'] / c)\n",
    "l_freq = np.log(freq_dist['Count'])\n",
    "\n",
    "# X = sm.add_constant(l_rank)\n",
    "model = sm.OLS(l_freq, l_rank)\n",
    "result = model.fit()\n",
    "print(result.summary())"
   ]
  },
  {
   "cell_type": "code",
   "execution_count": 0,
   "metadata": {
    "application/vnd.databricks.v1+cell": {
     "cellMetadata": {
      "byteLimit": 2048000,
      "rowLimit": 10000
     },
     "inputWidgets": {},
     "nuid": "6eb3887e-12c0-4c6f-864f-900d2d80bb73",
     "showTitle": false,
     "title": ""
    }
   },
   "outputs": [],
   "source": [
    "plt.figure(figsize=(20,7))\n",
    "plt.plot(l_freq, l_rank, label=\"Raw Zipf's Curve\")\n",
    "plt.plot(result.predict(l_rank), l_rank, label='OLS Fit')\n",
    "plt.xlabel('Rank')\n",
    "plt.ylabel('Frequency')\n",
    "plt.title(\"Zipf's Distribution\")\n",
    "plt.legend()\n",
    "plt.show()"
   ]
  },
  {
   "cell_type": "code",
   "execution_count": 0,
   "metadata": {
    "application/vnd.databricks.v1+cell": {
     "cellMetadata": {
      "byteLimit": 2048000,
      "rowLimit": 10000
     },
     "inputWidgets": {},
     "nuid": "06e1c0f1-673d-48a1-8c33-8c8f24a6d002",
     "showTitle": false,
     "title": ""
    }
   },
   "outputs": [],
   "source": [
    "def process_column(column):\n",
    "    data = list(column)\n",
    "    for i in range(len(data)):\n",
    "        text = str(data[i])\n",
    "        for punct in list(string.punctuation.replace('+','')):\n",
    "             text = text.replace(punct, ' ')\n",
    "        text = text.lower()\n",
    "        data[i] = text\n",
    "    return data\n",
    "\n",
    "def replace_car_brands(data, map):\n",
    "    for i in range(len(data)):\n",
    "        text = data[i]\n",
    "        l_text = text.split()\n",
    "        for word in l_text:\n",
    "            if word in map.keys():\n",
    "                text = text.replace(word, map[word])\n",
    "        data[i] = text\n",
    "    return data"
   ]
  },
  {
   "cell_type": "code",
   "execution_count": 0,
   "metadata": {
    "application/vnd.databricks.v1+cell": {
     "cellMetadata": {
      "byteLimit": 2048000,
      "rowLimit": 10000
     },
     "inputWidgets": {},
     "nuid": "c8e792e1-9d7e-461a-adf0-f7e1ea59dbb6",
     "showTitle": false,
     "title": ""
    }
   },
   "outputs": [],
   "source": [
    "comments = process_column(edmunds_data['Comment'])\n",
    "\n",
    "df = spark.read.format('csv').options(header=True,inferSchema=True).load(path + 'Support Files/Substitutions/')\n",
    "brand_model_map = df.toPandas()\n",
    "\n",
    "model__brand_dict = {}\n",
    "for brand, model in zip(brand_model_map['Brand'], brand_model_map['Model']):\n",
    "    model__brand_dict[model] = brand\n",
    "\n",
    "# print(model__brand_dict['century'])\n",
    "comments = replace_car_brands(comments, model__brand_dict)\n",
    "\n",
    "brand_count = {}\n",
    "for brand in list(brand_model_map['Brand'].unique()):\n",
    "    brand_count[brand] = 0\n",
    "\n",
    "for i in range(len(comments)):\n",
    "    text = comments[i].split()\n",
    "    for brand in list(brand_count.keys()):\n",
    "        if brand in text:\n",
    "            brand_count[brand] += 1\n"
   ]
  },
  {
   "cell_type": "code",
   "execution_count": 0,
   "metadata": {
    "application/vnd.databricks.v1+cell": {
     "cellMetadata": {
      "byteLimit": 2048000,
      "rowLimit": 10000
     },
     "inputWidgets": {},
     "nuid": "bc9f90f6-fa4f-474a-a73a-2f56b6d6f61d",
     "showTitle": false,
     "title": ""
    }
   },
   "outputs": [],
   "source": [
    "brand_freq = []\n",
    "for brand, count in zip(brand_count.keys(), brand_count.values()):\n",
    "    brand_freq.append([brand, count])\n",
    "\n",
    "brand_freq = pd.DataFrame(brand_freq, columns=['Brand', 'Count'])\n",
    "brand_freq = brand_freq.sort_values('Count', ascending=False).reset_index(drop=False)\n",
    "brand_freq"
   ]
  },
  {
   "cell_type": "code",
   "execution_count": 0,
   "metadata": {
    "application/vnd.databricks.v1+cell": {
     "cellMetadata": {
      "byteLimit": 2048000,
      "rowLimit": 10000
     },
     "inputWidgets": {},
     "nuid": "a690b08a-5d2d-4042-8b3f-8e92b1c65492",
     "showTitle": false,
     "title": ""
    }
   },
   "outputs": [],
   "source": [
    "def lift(texts, x, y, words=float('inf')):\n",
    "    n = len(texts)\n",
    "    count_x = 0\n",
    "    count_y = 0\n",
    "    count_x_y = 0\n",
    "\n",
    "    for i in range(n):\n",
    "        x_indices = []\n",
    "        y_indices = []\n",
    "        text = texts[i].split()\n",
    "        \n",
    "        for j in range(len(text)):\n",
    "            if x == text[j]:\n",
    "                x_indices.append(j)\n",
    "            elif y == text[j]:\n",
    "                y_indices.append(j)\n",
    "\n",
    "        n_words = []    \n",
    "        for x_index in x_indices:\n",
    "            for y_index in y_indices:\n",
    "                n_words.append(abs(x_index - y_index) - 1)\n",
    "        \n",
    "        # print(len(n_words) > 0, len(x_indices) > 0, len(y_indices) > 0)\n",
    "        if len(n_words) > 0:\n",
    "            if float(min(n_words)) <= float(words):\n",
    "                count_x_y += 1\n",
    "        if len(x_indices) > 0:\n",
    "            count_x += 1\n",
    "        if len(y_indices) > 0:\n",
    "            count_y += 1\n",
    "        \n",
    "        # print(n, count_x_y, count_x, count_y)\n",
    "    \n",
    "    lift = (n * count_x_y) / (count_x * count_y)\n",
    "    return lift"
   ]
  },
  {
   "cell_type": "code",
   "execution_count": 0,
   "metadata": {
    "application/vnd.databricks.v1+cell": {
     "cellMetadata": {
      "byteLimit": 2048000,
      "rowLimit": 10000
     },
     "inputWidgets": {},
     "nuid": "f9b3020f-bd99-466a-9dd2-82ec1c01332f",
     "showTitle": false,
     "title": ""
    }
   },
   "outputs": [],
   "source": [
    "top_10_brands = list(brand_freq[:10]['Brand'])\n",
    "\n",
    "lift_scores = []\n",
    "dissimilarity_matrix = []\n",
    "for i in range(len(top_10_brands)):\n",
    "    row = []\n",
    "    row_diss = []\n",
    "    for j in range(len(top_10_brands)):\n",
    "        if j!=i:\n",
    "            lift_score = lift(comments, top_10_brands[i], top_10_brands[j])\n",
    "            row.append(lift_score)\n",
    "            try:\n",
    "                row_diss.append(1/lift_score)\n",
    "            except ZeroDivisionError:\n",
    "                row_diss.append(np.inf)\n",
    "        elif i==j:\n",
    "            row.append(1)\n",
    "            row_diss.append(0)\n",
    "        # else:\n",
    "        #     row.append(np.nan)\n",
    "        #     row_diss.append(np.nan)\n",
    "    \n",
    "    row.append(top_10_brands[i])\n",
    "    row_diss.append(top_10_brands[i])\n",
    "    lift_scores.append(row)\n",
    "    dissimilarity_matrix.append(row_diss)\n",
    "\n",
    "cols = top_10_brands.append('Brand')\n",
    "\n",
    "lift_scores = pd.DataFrame(lift_scores, columns=top_10_brands).set_index('Brand')\n",
    "display(lift_scores)\n",
    "\n",
    "dissimilarity_matrix = pd.DataFrame(dissimilarity_matrix, columns=top_10_brands).set_index('Brand')\n",
    "display(dissimilarity_matrix)"
   ]
  },
  {
   "cell_type": "code",
   "execution_count": 0,
   "metadata": {
    "application/vnd.databricks.v1+cell": {
     "cellMetadata": {
      "byteLimit": 2048000,
      "rowLimit": 10000
     },
     "inputWidgets": {},
     "nuid": "7891b2e9-5f57-46b9-b918-5a9dd8b08f01",
     "showTitle": false,
     "title": ""
    }
   },
   "outputs": [],
   "source": [
    "def MDS_map(dissimilarity_matrix, metric=True, title='MDS Plot'):\n",
    "    mds = MDS(n_components=2, metric=metric, dissimilarity='precomputed', random_state=0)\n",
    "    pts = mds.fit_transform(dissimilarity_matrix)\n",
    "\n",
    "    plt.scatter(pts[:,0], pts[:,1], color='silver', s=150)\n",
    "    for i in range(dissimilarity_matrix.shape[0]):\n",
    "        plt.annotate(dissimilarity_matrix.index[i], (pts[i,0], pts[i,1]), color='blue')\n",
    "    plt.title(title)\n",
    "    plt.axis('off')\n",
    "    plt.show()\n",
    "\n",
    "MDS_map(dissimilarity_matrix=dissimilarity_matrix, metric=True, title='MDS Plot - Car Brands')"
   ]
  },
  {
   "cell_type": "code",
   "execution_count": 0,
   "metadata": {
    "application/vnd.databricks.v1+cell": {
     "cellMetadata": {
      "byteLimit": 2048000,
      "rowLimit": 10000
     },
     "inputWidgets": {},
     "nuid": "1ace89f3-d418-4222-873a-de98203dbdc7",
     "showTitle": false,
     "title": ""
    }
   },
   "outputs": [],
   "source": [
    "# features = input(\"Enter the features as comma seperated values without spaces\")\n",
    "# features = features.split(',')\n",
    "brand_feature = list(brand_freq[:10]['Brand'])\n",
    "features = ['performance', 'luxury', 'driving', 'engine', 'handling', 'interior']\n",
    "for feature in features:\n",
    "    brand_feature.append(feature)\n",
    "\n",
    "\n",
    "lift_scores = []\n",
    "dissimilarity_matrix = []\n",
    "for i in range(len(brand_feature)):\n",
    "    row = []\n",
    "    row_diss = []\n",
    "    for j in range(len(brand_feature)):\n",
    "        if j!=i:\n",
    "            if (brand_feature[i] in top_10_brands) and (brand_feature[j] in top_10_brands):\n",
    "                lift_score = lift(comments, brand_feature[i], brand_feature[j])\n",
    "            else:\n",
    "                lift_score = lift(comments, brand_feature[i], brand_feature[j], 50)\n",
    "            row.append(lift_score)\n",
    "            try:\n",
    "                row_diss.append(1/lift_score)\n",
    "            except ZeroDivisionError:\n",
    "                row_diss.append(np.inf)\n",
    "        elif i==j:\n",
    "            row.append(1)\n",
    "            row_diss.append(0)\n",
    "        # else:\n",
    "        #     row.append(np.nan)\n",
    "        #     row_diss.append(np.nan)\n",
    "    \n",
    "    row.append(brand_feature[i])\n",
    "    row_diss.append(brand_feature[i])\n",
    "    lift_scores.append(row)\n",
    "    dissimilarity_matrix.append(row_diss)\n",
    "\n",
    "cols = brand_feature.append('Brand')\n",
    "\n",
    "lift_scores = pd.DataFrame(lift_scores, columns=brand_feature).set_index('Brand')\n",
    "display(lift_scores)\n",
    "\n",
    "dissimilarity_matrix = pd.DataFrame(dissimilarity_matrix, columns=brand_feature).set_index('Brand')\n",
    "display(dissimilarity_matrix)"
   ]
  },
  {
   "cell_type": "markdown",
   "metadata": {
    "application/vnd.databricks.v1+cell": {
     "cellMetadata": {
      "byteLimit": 2048000,
      "rowLimit": 10000
     },
     "inputWidgets": {},
     "nuid": "74326747-7714-4f85-9d4c-d69a0bebc0a6",
     "showTitle": false,
     "title": ""
    }
   },
   "source": [
    "## Appendix"
   ]
  },
  {
   "cell_type": "code",
   "execution_count": 0,
   "metadata": {
    "application/vnd.databricks.v1+cell": {
     "cellMetadata": {
      "byteLimit": 2048000,
      "rowLimit": 10000
     },
     "inputWidgets": {},
     "nuid": "4e02ecf9-0407-4b13-9c78-0174e3414a62",
     "showTitle": false,
     "title": ""
    }
   },
   "outputs": [],
   "source": [
    "MDS_map(dissimilarity_matrix=dissimilarity_matrix, metric=True, title='MDS Plot - Car Brands & Attributes')"
   ]
  }
 ],
 "metadata": {
  "accelerator": "GPU",
  "application/vnd.databricks.v1+notebook": {
   "dashboards": [],
   "language": "python",
   "notebookMetadata": {
    "pythonIndentUnit": 4
   },
   "notebookName": "Old_Comments",
   "widgets": {}
  },
  "colab": {
   "provenance": []
  },
  "gpuClass": "standard",
  "kernelspec": {
   "display_name": "Python 3",
   "name": "python3"
  },
  "language_info": {
   "codemirror_mode": {
    "name": "ipython",
    "version": 3
   },
   "file_extension": ".py",
   "mimetype": "text/x-python",
   "name": "python",
   "nbconvert_exporter": "python",
   "pygments_lexer": "ipython3",
   "version": "3.10.11"
  }
 },
 "nbformat": 4,
 "nbformat_minor": 0
}

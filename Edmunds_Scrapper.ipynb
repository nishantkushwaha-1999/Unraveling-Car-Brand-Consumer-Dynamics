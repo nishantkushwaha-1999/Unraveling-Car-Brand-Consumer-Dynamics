{
 "cells": [
  {
   "cell_type": "code",
   "execution_count": 0,
   "metadata": {
    "application/vnd.databricks.v1+cell": {
     "cellMetadata": {
      "byteLimit": 2048000,
      "rowLimit": 10000
     },
     "inputWidgets": {},
     "nuid": "a176f350-ceef-4c58-87e7-a7f98a986153",
     "showTitle": false,
     "title": ""
    },
    "colab": {
     "base_uri": "https://localhost:8080/"
    },
    "id": "Xahra0HYBsCL",
    "outputId": "06e689c0-54ac-4386-8392-90ec18ba563e"
   },
   "outputs": [],
   "source": [
    "import sys\n",
    "sys.path.insert(0,'/usr/lib/chromium-browser/chromedriver')\n",
    "from selenium import webdriver\n",
    "from selenium.webdriver.common.by import By\n",
    "from tqdm import tqdm\n",
    "import pandas as pd\n",
    "from random import randint\n",
    "\n",
    "chrome_options = webdriver.ChromeOptions()\n",
    "chrome_options.add_argument('--headless')\n",
    "chrome_options.add_argument('--no-sandbox')\n",
    "chrome_options.add_argument('--disable-dev-shm-usage')"
   ]
  },
  {
   "cell_type": "code",
   "execution_count": 0,
   "metadata": {
    "application/vnd.databricks.v1+cell": {
     "cellMetadata": {
      "byteLimit": 2048000,
      "rowLimit": 10000
     },
     "inputWidgets": {},
     "nuid": "9becb21f-5f6a-445e-ab58-8242da72a8a7",
     "showTitle": false,
     "title": ""
    }
   },
   "outputs": [],
   "source": [
    "path = '/mnt/car_brand_attribute_associations/'"
   ]
  },
  {
   "cell_type": "code",
   "execution_count": 0,
   "metadata": {
    "application/vnd.databricks.v1+cell": {
     "cellMetadata": {
      "byteLimit": 2048000,
      "rowLimit": 10000
     },
     "inputWidgets": {},
     "nuid": "c2ada587-410b-4130-b182-90b84e1df85d",
     "showTitle": false,
     "title": ""
    }
   },
   "outputs": [],
   "source": [
    "wd = webdriver.Chrome(options=chrome_options)\n",
    "\n",
    "data = []\n",
    "random_numbers = set()\n",
    "\n",
    "random = 0\n",
    "if random == 1:\n",
    "    while len(random_numbers) != 100:\n",
    "        random_number = randint(1, 436)\n",
    "        random_numbers.add(random_number)\n",
    "else:\n",
    "    for i in range(1, 110):\n",
    "        random_numbers.add(i)   \n",
    "\n",
    "for i in (pbar := tqdm(list(random_numbers))):\n",
    "    if i==1:\n",
    "        url = 'https://forums.edmunds.com/discussion/2864/general/x/entry-level-luxury-performance-sedans'\n",
    "    else:\n",
    "        url = 'https://forums.edmunds.com/discussion/2864/general/x/entry-level-luxury-performance-sedans' + \"/p\" + str(i)\n",
    "    \n",
    "    wd.get(url)\n",
    "\n",
    "    comments = wd.find_elements(By.CLASS_NAME, value=\"Comment\")\n",
    "\n",
    "    for comment in comments:\n",
    "        user = comment.find_element(By.TAG_NAME, \"a\").get_attribute('href')\n",
    "        user = user.split('/')[-1]\n",
    "        \n",
    "        posts = comment.find_element(by=By.CLASS_NAME, value=\"AuthorInfo\")\n",
    "        posts = posts.find_element(by=By.TAG_NAME, value=\"b\").text\n",
    "        posts = posts.split(',')\n",
    "        posts = \"\".join(posts)\n",
    "        \n",
    "        time = comment.find_element(by=By.TAG_NAME, value=\"time\").get_attribute(\"datetime\")\n",
    "        \n",
    "        comment_text = comment.find_element(by=By.CLASS_NAME, value=\"Item-BodyWrap\").text\n",
    "        comment_text = comment_text.split()\n",
    "        comment_text = \" \".join(comment_text)\n",
    "        comment_text = comment_text.strip()\n",
    "\n",
    "        data.append([user, time, comment_text, posts])\n",
    "    pbar.set_description(f\"Collected {len(data)} rows from url: {url}\")\n",
    "\n",
    "data"
   ]
  },
  {
   "cell_type": "code",
   "execution_count": 0,
   "metadata": {
    "application/vnd.databricks.v1+cell": {
     "cellMetadata": {
      "byteLimit": 2048000,
      "rowLimit": 10000
     },
     "inputWidgets": {},
     "nuid": "5d54b93f-160c-4c48-9421-e5bea577a96f",
     "showTitle": false,
     "title": ""
    }
   },
   "outputs": [],
   "source": [
    "data = pd.DataFrame(data, columns=['User', 'Post Time', 'Comment', '#Posts by User'])\n",
    "data['Post Time'] = pd.to_datetime(data['Post Time'])\n",
    "data = data.astype({'#Posts by User': int})\n",
    "data = data.loc[~data['Comment'].isnull()]\n",
    "data = data.loc[~data['Post Time'].isnull()]\n",
    "data = data[:5000]\n",
    "df_spark = spark.createDataFrame(data)\n",
    "df_spark.write.option(\"header\", \"true\").mode(\"overwrite\").csv(path+'Data/Edmunds_Data_Old')\n",
    "data.info()"
   ]
  },
  {
   "cell_type": "code",
   "execution_count": 0,
   "metadata": {
    "application/vnd.databricks.v1+cell": {
     "cellMetadata": {
      "byteLimit": 2048000,
      "rowLimit": 10000
     },
     "inputWidgets": {},
     "nuid": "9848e76a-a30e-4d0e-9be2-ae5266dbc732",
     "showTitle": false,
     "title": ""
    }
   },
   "outputs": [],
   "source": [
    "wd = webdriver.Chrome(options=chrome_options)\n",
    "\n",
    "n = 6000\n",
    "data = {}\n",
    "user_dict = {}\n",
    "posts_dict = {}\n",
    "time_dict = {}\n",
    "i = 435\n",
    "while len(data) < n:\n",
    "    url = 'https://forums.edmunds.com/discussion/2864/general/x/entry-level-luxury-performance-sedans' + \"/p\" + str(i)\n",
    "    wd.get(url)\n",
    "\n",
    "    comments = wd.find_elements(By.CLASS_NAME, value=\"Comment\")\n",
    "\n",
    "    for comment in reversed(comments): \n",
    "        user = comment.find_element(By.TAG_NAME, \"a\").get_attribute('href')\n",
    "        user = user.split('/')[-1]\n",
    "        \n",
    "        posts = comment.find_element(by=By.CLASS_NAME, value=\"AuthorInfo\")\n",
    "        posts = posts.find_element(by=By.TAG_NAME, value=\"b\").text\n",
    "        posts = posts.split(',')\n",
    "        posts = \"\".join(posts)\n",
    "        \n",
    "        time = comment.find_element(by=By.TAG_NAME, value=\"time\").get_attribute(\"datetime\")\n",
    "\n",
    "        try:\n",
    "            backquote = comment.find_element(by=By.CLASS_NAME, value=\"Item-BodyWrap\")\n",
    "            backquote = backquote.find_element(by=By.TAG_NAME, value=\"blockquote\")\n",
    "            backquote = backquote.find_element(by=By.CLASS_NAME, value=\"QuoteText.blockquote-content\").text\n",
    "            backquote = backquote.split()\n",
    "            backquote = \" \".join(backquote)\n",
    "            backquote = backquote.strip()\n",
    "        except:\n",
    "            backquote = \"\"\n",
    "        \n",
    "        comment_text = comment.find_element(by=By.CLASS_NAME, value=\"Item-BodyWrap\")\n",
    "        comment_text = comment.find_element(by=By.CLASS_NAME, value=\"Message.userContent\").text\n",
    "        comment_text = comment_text.split()\n",
    "        comment_text = \" \".join(comment_text)\n",
    "        comment_text = comment_text.strip()\n",
    "\n",
    "        try:\n",
    "            sub_text = comment.find_element(by=By.CLASS_NAME, value=\"Item-BodyWrap\")\n",
    "            sub_text = sub_text.find_element(by=By.TAG_NAME, value=\"blockquote\").text\n",
    "            sub_text = sub_text.split()\n",
    "            sub_text = \" \".join(sub_text)\n",
    "            sub_text = sub_text.strip()\n",
    "        except:\n",
    "            sub_text = ''\n",
    "\n",
    "        comment_text = comment_text.replace(sub_text, \"\").strip()\n",
    "\n",
    "        user_dict[comment_text] = user\n",
    "        posts_dict[comment_text] = posts\n",
    "        time_dict[comment_text] = time\n",
    "\n",
    "        if backquote != \"\":\n",
    "            if comment_text in data.keys():\n",
    "                text = [comment_text]\n",
    "                for j in data[comment_text]:\n",
    "                    text.append(j)\n",
    "                data[backquote] = text\n",
    "                del data[comment_text]\n",
    "            else:\n",
    "                data[backquote] = [comment_text]\n",
    "        else:\n",
    "            if comment_text not in data.keys():\n",
    "                data[comment_text] = []\n",
    "\n",
    "    l = 30\n",
    "    d = int((len(data)/n) * l)\n",
    "    sys.stdout.write(\"\\rCollecing samples from {1}: {0}>\".format(\"=\"*d + \".\"*(l-d-1), url))\n",
    "    sys.stdout.flush()\n",
    "    i = int(i)\n",
    "    i = i - 1\n",
    "wd.quit()"
   ]
  },
  {
   "cell_type": "code",
   "execution_count": 0,
   "metadata": {
    "application/vnd.databricks.v1+cell": {
     "cellMetadata": {
      "byteLimit": 2048000,
      "rowLimit": 10000
     },
     "inputWidgets": {},
     "nuid": "8633327d-ffc9-42b8-980c-ad82199883a7",
     "showTitle": false,
     "title": ""
    }
   },
   "outputs": [],
   "source": [
    "edmunds = []\n",
    "for key in data.keys():\n",
    "    text = ' '\n",
    "    text += key\n",
    "    for j in data[key]:\n",
    "        text += ' ' + j\n",
    "    text.strip()\n",
    "\n",
    "    try:\n",
    "        user = user_dict[key]\n",
    "    except KeyError:\n",
    "        user = None\n",
    "    \n",
    "    try: \n",
    "        n_posts = posts_dict[key]\n",
    "    except KeyError:\n",
    "        n_posts = None\n",
    "\n",
    "    try:\n",
    "        time = time_dict[key]\n",
    "    except KeyError:\n",
    "        time = None\n",
    "    \n",
    "    edmunds.append([user, time, text, n_posts])\n",
    "\n",
    "edmunds = pd.DataFrame(edmunds, columns=['User', 'Post Time', 'Comment', '#Posts by User'])\n",
    "edmunds['Post Time'] = pd.to_datetime(edmunds['Post Time'])\n",
    "edmunds = edmunds.loc[~edmunds['Comment'].isnull()]\n",
    "edmunds = edmunds.loc[~edmunds['Post Time'].isnull()]\n",
    "edmunds = edmunds[:5000]\n",
    "df_spark = spark.createDataFrame(edmunds)\n",
    "df_spark.write.option(\"header\", \"true\").mode(\"overwrite\").csv(path+'Data/Edmunds_Data_New')\n",
    "edmunds.info()"
   ]
  }
 ],
 "metadata": {
  "accelerator": "GPU",
  "application/vnd.databricks.v1+notebook": {
   "dashboards": [],
   "language": "python",
   "notebookMetadata": {
    "mostRecentlyExecutedCommandWithImplicitDF": {
     "commandId": 1273164524005991,
     "dataframes": [
      "_sqldf"
     ]
    },
    "pythonIndentUnit": 4
   },
   "notebookName": "Edmunds_Scrapper",
   "widgets": {}
  },
  "colab": {
   "provenance": []
  },
  "gpuClass": "standard",
  "kernelspec": {
   "display_name": "Python 3",
   "language": "python",
   "name": "python3"
  },
  "language_info": {
   "codemirror_mode": {
    "name": "ipython",
    "version": 3
   },
   "file_extension": ".py",
   "mimetype": "text/x-python",
   "name": "python",
   "nbconvert_exporter": "python",
   "pygments_lexer": "ipython3",
   "version": "3.8.8"
  }
 },
 "nbformat": 4,
 "nbformat_minor": 0
}
